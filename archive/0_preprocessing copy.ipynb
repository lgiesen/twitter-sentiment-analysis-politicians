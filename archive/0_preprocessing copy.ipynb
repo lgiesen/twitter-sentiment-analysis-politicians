{
 "cells": [
  {
   "cell_type": "code",
   "execution_count": 1,
   "metadata": {},
   "outputs": [],
   "source": [
    "# TODO: filter by date?; check data quality (if really from city)\n",
    "# TODO: filter out retweets and potential spam\n",
    "# in the London data set until April 2019 are tweets from Rotterdam and Amsterdam, so you can use country_code = 'GB' to filter the tweets."
   ]
  },
  {
   "cell_type": "code",
   "execution_count": 2,
   "metadata": {},
   "outputs": [],
   "source": [
    "import sqlite3\n",
    "import pandas as pd\n",
    "from sqlite3 import Error\n",
    "root = '/Volumes/Festplatte/data-UA/'\n",
    "dbfile = 'NYC/2018/month_2018_08.db'\n",
    "president = 'trump'"
   ]
  },
  {
   "cell_type": "code",
   "execution_count": 3,
   "metadata": {},
   "outputs": [],
   "source": [
    "def create_connection(db_file):\n",
    "    \"\"\" create a database connection to the SQLite database\n",
    "        specified by the db_file\n",
    "    :param db_file: database file\n",
    "    :return: Connection object or None\n",
    "    \"\"\"\n",
    "    conn = None\n",
    "    try:\n",
    "        conn = sqlite3.connect(db_file)\n",
    "    except Error as e:\n",
    "        print(e)\n",
    "\n",
    "    return conn"
   ]
  },
  {
   "cell_type": "code",
   "execution_count": 4,
   "metadata": {},
   "outputs": [],
   "source": [
    "conn = create_connection(root + dbfile)"
   ]
  },
  {
   "cell_type": "code",
   "execution_count": 5,
   "metadata": {},
   "outputs": [],
   "source": [
    "def db_select(conn, table, limit, select = '*', where = 'True'):\n",
    "    \"\"\"\n",
    "    Query all rows in the tasks table\n",
    "    :param conn: the Connection object\n",
    "    :return:\n",
    "    \"\"\"\n",
    "    cur = conn.cursor()\n",
    "    cur.execute(f'SELECT {select} FROM {table} WHERE {where} LIMIT {limit}')\n",
    "\n",
    "    rows = cur.fetchall()\n",
    "\n",
    "    for row in rows:\n",
    "        print(row)"
   ]
  },
  {
   "cell_type": "code",
   "execution_count": 6,
   "metadata": {},
   "outputs": [
    {
     "name": "stdout",
     "output_type": "stream",
     "text": [
      "(1, 0.0, 0.0, 0.0, 1.0)\n",
      "(2, 0.9623, 0.448, 0.0, 0.552)\n",
      "(3, 0.0, 0.0, 0.0, 1.0)\n",
      "(4, 0.6133, 0.255, 0.091, 0.654)\n",
      "(5, 0.7269, 0.433, 0.0, 0.567)\n",
      "(6, 0.0772, 0.075, 0.0, 0.925)\n",
      "(7, 0.0, 0.0, 0.0, 1.0)\n",
      "(8, 0.594, 0.243, 0.0, 0.757)\n",
      "(9, 0.0, 0.0, 0.0, 1.0)\n",
      "(10, -0.0622, 0.215, 0.182, 0.602)\n"
     ]
    }
   ],
   "source": [
    "db_select(conn, 'sentiment', limit='10')"
   ]
  },
  {
   "cell_type": "code",
   "execution_count": 7,
   "metadata": {},
   "outputs": [
    {
     "name": "stdout",
     "output_type": "stream",
     "text": [
      "The following tables exist:  [('hashtags',), ('media',), ('place',), ('tweets',), ('urls',), ('user',), ('user_full',), ('user_mentions_name',), ('sentiment',), ('users_2020_0409_plus3',), ('LIWC',)]\n"
     ]
    }
   ],
   "source": [
    "table_list = [a for a in conn.execute(\"SELECT name FROM sqlite_master WHERE type = 'table'\")]\n",
    "print('The following tables exist: ', table_list)"
   ]
  },
  {
   "cell_type": "code",
   "execution_count": 8,
   "metadata": {},
   "outputs": [],
   "source": [
    "# # Create a SQL connection to our SQLite database\n",
    "# conn = sqlite3.connect(root + dbfile)\n",
    "\n",
    "# # creating cursor\n",
    "# cur = conn.cursor()\n",
    "\n",
    "# # reading all table names\n",
    "# table_list = [a for a in cur.execute(\"SELECT name FROM sqlite_master WHERE type = 'table'\")]\n",
    "# # here is you table list\n",
    "# print(table_list)"
   ]
  },
  {
   "cell_type": "code",
   "execution_count": 9,
   "metadata": {},
   "outputs": [],
   "source": [
    "def get_col_names():\n",
    "    \"\"\" get all column names of an SQLite database\n",
    "    :param db_file: database file\n",
    "    :return: Tuple of two Lists\n",
    "    \"\"\"\n",
    "    num_fields = len(cur.description)\n",
    "    field_names = [i[0] for i in cur.description]\n",
    "    return (field_names, num_fields)"
   ]
  },
  {
   "cell_type": "code",
   "execution_count": 10,
   "metadata": {},
   "outputs": [],
   "source": [
    "def get_row_count(tablename):\n",
    "    \"\"\" get the total count of rows in an SQLite database\n",
    "    :param tablename: String\n",
    "    :return: Integer\n",
    "    \"\"\"\n",
    "    cur = conn.cursor()\n",
    "    cur.execute(f'select * from {tablename}')\n",
    "    results = cur.fetchall()\n",
    "    row_count = len(results)\n",
    "    # print(f'{row_count} rows in {tablename} database from {dbfile}')\n",
    "    return row_count"
   ]
  },
  {
   "cell_type": "code",
   "execution_count": 11,
   "metadata": {},
   "outputs": [
    {
     "name": "stdout",
     "output_type": "stream",
     "text": [
      "1235925 rows in sentiment database from NYC/2018/month_2018_08.db\n"
     ]
    }
   ],
   "source": [
    "get_row_count('sentiment')"
   ]
  },
  {
   "cell_type": "markdown",
   "metadata": {},
   "source": [
    "### Create Dataset"
   ]
  },
  {
   "cell_type": "code",
   "execution_count": 12,
   "metadata": {},
   "outputs": [],
   "source": [
    "# join sentiment and tweet table\n",
    "# only select english tweets\n",
    "data_en_keywords = pd.read_sql_query(\n",
    "    f\"\"\"\n",
    "    SELECT * \n",
    "    FROM tweets \n",
    "    INNER JOIN sentiment \n",
    "    USING (item_number) \n",
    "    WHERE (\n",
    "        lang == 'en'\n",
    "        AND\n",
    "        text LIKE '%{president}%'\n",
    "    );\n",
    "    \"\"\", \n",
    "    conn)\n",
    "# alternatively: # cur.execute('SQL STATEMENT\")"
   ]
  },
  {
   "cell_type": "code",
   "execution_count": 13,
   "metadata": {},
   "outputs": [],
   "source": [
    "# DONT NEED TO FILTER BY KEYWORD BECAUSE SQL DOES IT FOR ME ('trump\" elemof \"DonaldTrump\")\n",
    "# # filter out relevant tweets: rule-based approach\n",
    "# # tags, filter by word\n",
    "# data_en_keywords = data_en.loc[\n",
    "#     data_en['text'].isin(keywords)\n",
    "# ]"
   ]
  },
  {
   "cell_type": "code",
   "execution_count": 14,
   "metadata": {},
   "outputs": [],
   "source": [
    "# PYTHON IS CASE-SENSITIVE - SQL IS NOT HERE\n",
    "# data_en[data_en['text'].str.contains(\"trump\")].shape[0] + data_en[data_en['text'].str.contains(\"Trump\")].shape[0]"
   ]
  },
  {
   "cell_type": "code",
   "execution_count": 15,
   "metadata": {},
   "outputs": [],
   "source": [
    "# now the compounded sentiment value should be in the cursor\n",
    "assert 'Compound' in data_en_keywords.columns"
   ]
  },
  {
   "cell_type": "code",
   "execution_count": 16,
   "metadata": {},
   "outputs": [],
   "source": [
    "# keywords = ('Trump', 'DonaldTrump', 'RealDonaldTrump', 'BorisJohnson', 'BoJo', '#Trump', '#BorisJohnson')\n",
    "# hashtags = pd.read_sql_query(f\"SELECT DISTINCT item_number FROM hashtags WHERE text IN {keywords}\", conn)\n",
    "# TODO: check which way to do it: with keywords or like %%!\n",
    "hashtags = pd.read_sql_query(f\"SELECT DISTINCT item_number FROM hashtags WHERE text LIKE '%{president}%';\", conn)"
   ]
  },
  {
   "cell_type": "code",
   "execution_count": 17,
   "metadata": {},
   "outputs": [
    {
     "name": "stdout",
     "output_type": "stream",
     "text": [
      "336 posts are relevant because of hashtags, which were not present in the dataset before.\n"
     ]
    }
   ],
   "source": [
    "# posts that are not present in the current data_en_keywords that has a relevant hashtag is now added to the data\n",
    "newly_relevant_hashtags = list(set(hashtags['item_number']) - set(data_en_keywords['item_number']))\n",
    "print(f'{len(newly_relevant_hashtags)} posts are relevant because of hashtags, which were not present in the dataset before.')"
   ]
  },
  {
   "cell_type": "code",
   "execution_count": 18,
   "metadata": {},
   "outputs": [],
   "source": [
    "tweets_by_hashtags = pd.read_sql_query(f\"\"\"\n",
    "                                        SELECT * \n",
    "                                        FROM tweets INNER JOIN sentiment \n",
    "                                        USING (item_number) \n",
    "                                        WHERE (\n",
    "                                            lang == 'en' \n",
    "                                            AND \n",
    "                                            item_number IN {tuple(newly_relevant_hashtags)}\n",
    "                                        )\n",
    "\"\"\", conn)"
   ]
  },
  {
   "cell_type": "code",
   "execution_count": 19,
   "metadata": {},
   "outputs": [
    {
     "name": "stdout",
     "output_type": "stream",
     "text": [
      "There are 0 tweets which are in english and are relevant by using the hashtag\n"
     ]
    }
   ],
   "source": [
    "print(f'There are {tweets_by_hashtags.shape[0]} tweets which are in english and are relevant by using the hashtag')"
   ]
  },
  {
   "cell_type": "code",
   "execution_count": 20,
   "metadata": {},
   "outputs": [],
   "source": [
    "data_en_keywords_hashtags = pd.concat([data_en_keywords, tweets_by_hashtags], axis=0)"
   ]
  },
  {
   "cell_type": "code",
   "execution_count": 21,
   "metadata": {},
   "outputs": [],
   "source": [
    "# TODO: filter out retweets and potential spam | tokenization, lemmatization and stopword removal"
   ]
  },
  {
   "cell_type": "code",
   "execution_count": 22,
   "metadata": {},
   "outputs": [],
   "source": [
    "# TODO: vectorization (bag of words or bag-of-ngrams or word2vec)"
   ]
  },
  {
   "cell_type": "code",
   "execution_count": 29,
   "metadata": {},
   "outputs": [],
   "source": [
    "import os\n",
    "cities = ['Birmingham', 'LA', 'London', 'NYC']\n",
    "data_path = root + 'data/'\n",
    "os.mkdir(data_path)\n",
    "for city in cities:\n",
    "    os.mkdir(data_path + city)"
   ]
  },
  {
   "cell_type": "code",
   "execution_count": 23,
   "metadata": {},
   "outputs": [],
   "source": [
    "filepath = data_path + 'data_en_keywords_hashtags.pkl'\n",
    "# TODO: update it when I automate to generate dataset for every month\n",
    "data_en_keywords.to_pickle(filepath)\n",
    "# data_en_keywords = pd.read_pickle(filepath)"
   ]
  },
  {
   "cell_type": "code",
   "execution_count": 24,
   "metadata": {},
   "outputs": [
    {
     "name": "stdout",
     "output_type": "stream",
     "text": [
      "The shape of the preprocessed data is: (24232, 17)\n"
     ]
    }
   ],
   "source": [
    "print(f'The shape of the preprocessed data is: {data_en_keywords_hashtags.shape}')"
   ]
  },
  {
   "cell_type": "code",
   "execution_count": 25,
   "metadata": {},
   "outputs": [],
   "source": [
    "# close the connection\n",
    "conn.close()"
   ]
  },
  {
   "cell_type": "markdown",
   "metadata": {},
   "source": [
    "## Looping over every database"
   ]
  },
  {
   "cell_type": "code",
   "execution_count": 33,
   "metadata": {},
   "outputs": [
    {
     "name": "stdout",
     "output_type": "stream",
     "text": [
      "['2018', '2019', '2020', '2021', '2022']\n"
     ]
    }
   ],
   "source": [
    "years = [str(year) for year in range(2018, 2023)]\n",
    "print(years)"
   ]
  },
  {
   "cell_type": "code",
   "execution_count": 46,
   "metadata": {},
   "outputs": [],
   "source": [
    "def get_files(dir):\n",
    "    \"\"\" get all files from a directory \n",
    "    that do not start with a '.'\n",
    "    :param dir: String\n",
    "    :return: List of Strings\n",
    "    \"\"\"\n",
    "    return [s for s in os.listdir(dir) if not s.startswith('.')]"
   ]
  },
  {
   "cell_type": "code",
   "execution_count": 48,
   "metadata": {},
   "outputs": [
    {
     "data": {
      "text/plain": [
       "['2018', '2019', '2020', '2021', '2022']"
      ]
     },
     "execution_count": 48,
     "metadata": {},
     "output_type": "execute_result"
    }
   ],
   "source": [
    "get_files(root + cities[0] + \"/\" + years[2])"
   ]
  },
  {
   "cell_type": "code",
   "execution_count": null,
   "metadata": {},
   "outputs": [],
   "source": []
  }
 ],
 "metadata": {
  "kernelspec": {
   "display_name": "urban-analytics",
   "language": "python",
   "name": "python3"
  },
  "language_info": {
   "codemirror_mode": {
    "name": "ipython",
    "version": 3
   },
   "file_extension": ".py",
   "mimetype": "text/x-python",
   "name": "python",
   "nbconvert_exporter": "python",
   "pygments_lexer": "ipython3",
   "version": "3.10.8"
  }
 },
 "nbformat": 4,
 "nbformat_minor": 2
}
