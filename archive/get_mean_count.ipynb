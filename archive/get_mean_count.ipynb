{
 "cells": [
  {
   "cell_type": "code",
   "execution_count": 1,
   "metadata": {},
   "outputs": [],
   "source": [
    "from main import get_data\n",
    "import os\n",
    "import sqlite3\n",
    "import pandas as pd\n",
    "import json\n",
    "(root, data_path, presidents, cities, countries, years, colors) = get_data()"
   ]
  },
  {
   "cell_type": "code",
   "execution_count": 2,
   "metadata": {},
   "outputs": [],
   "source": [
    "def get_db_files(root_dir):\n",
    "    \"\"\"Recursively find all .db files in the given directory.\"\"\"\n",
    "    db_files = []\n",
    "    for subdir, _, files in os.walk(root_dir):\n",
    "        for file in files:\n",
    "            if file.endswith('.db') and not file.startswith('.'):\n",
    "                db_files.append(os.path.join(subdir, file))\n",
    "    return db_files\n",
    "\n",
    "def get_compound_stats(db_file):\n",
    "    \"\"\"Get the sum and count of the 'Compound' column from the SQLite database.\"\"\"\n",
    "    query = \"\"\"SELECT SUM(Compound) AS total_compound, COUNT(*) AS count \n",
    "        FROM tweets \n",
    "        INNER JOIN sentiment USING (item_number) \n",
    "        INNER JOIN LIWC USING (item_number) \n",
    "        LEFT JOIN place USING (place_id)\n",
    "        WHERE country_code = 'GB' OR country_code = 'US' OR country_code IS NULL OR country_code = ''\"\"\"\n",
    "    try:\n",
    "        with sqlite3.connect(db_file) as conn:\n",
    "            df = pd.read_sql_query(query, conn)\n",
    "            if not df.empty:\n",
    "                return df.iloc[0].to_dict()\n",
    "            else:\n",
    "                return {\"total_compound\": 0, \"count\": 0}\n",
    "    except sqlite3.DatabaseError as e:\n",
    "        print(f\"Database error in file {db_file}: {e}\")\n",
    "        return {\"total_compound\": 0, \"count\": 0}\n",
    "    except Exception as e:\n",
    "        print(f\"An error occurred with file {db_file}: {e}\")\n",
    "        return {\"total_compound\": 0, \"count\": 0}\n",
    "\n",
    "def save_results(dict, filename):\n",
    "    # Write the dictionary to a JSON file\n",
    "    with open(filename, 'w') as f:\n",
    "        json.dump(dict, f)\n",
    "        \n",
    "    print(f\"Results saved to {filename}\")\n"
   ]
  },
  {
   "cell_type": "code",
   "execution_count": 6,
   "metadata": {},
   "outputs": [
    {
     "name": "stdout",
     "output_type": "stream",
     "text": [
      "City: Birmingham\n",
      "The overall mean of the 'Compound' column is: 0.23925275903675883\n",
      "Results saved to results/Birmingham_mean_count.json\n",
      "City: LA\n",
      "The overall mean of the 'Compound' column is: 0.15690286553367708\n",
      "Results saved to results/LA_mean_count.json\n",
      "City: London\n",
      "The overall mean of the 'Compound' column is: 0.22885618543112377\n",
      "Results saved to results/London_mean_count.json\n",
      "City: NYC\n",
      "The overall mean of the 'Compound' column is: 0.14329244187212753\n",
      "Results saved to results/NYC_mean_count.json\n"
     ]
    }
   ],
   "source": [
    "for city in cities:\n",
    "    print(f'City: {city}')\n",
    "    db_files = get_db_files(f'{root}{city}/')\n",
    "    # Aggregate the stats\n",
    "    total_compound = 0\n",
    "    total_count = 0\n",
    "    for db_file in db_files:\n",
    "        stats = get_compound_stats(db_file)\n",
    "        total_compound += stats['total_compound']\n",
    "        total_count += stats['count']\n",
    "\n",
    "    # Calculate the overall weighted mean\n",
    "    if total_count > 0:\n",
    "        overall_mean = total_compound / total_count\n",
    "        print(f\"The overall mean of the 'Compound' column is: {overall_mean}\")\n",
    "    else:\n",
    "        print(\"No data to calculate the mean.\")\n",
    "    results = {\n",
    "        \"overall_mean\": overall_mean,\n",
    "        \"total_count\": total_count\n",
    "    }\n",
    "    save_results(results, f'results/{city}_mean_count.json')"
   ]
  },
  {
   "cell_type": "code",
   "execution_count": 7,
   "metadata": {},
   "outputs": [],
   "source": [
    "# combine overall_mean compound data of US cities with the weighted mean using the total_count\n",
    "def load_json_data(file_path):\n",
    "    with open(file_path, 'r') as file:\n",
    "        return json.load(file)\n",
    "\n",
    "def calculate_weighted_mean(json_files):\n",
    "    weighted_sum = 0\n",
    "    total_weights = 0\n",
    "    \n",
    "    for file_path in json_files:\n",
    "        data = load_json_data(f'results/{file_path}_mean_count.json')\n",
    "        weighted_sum += data['overall_mean'] * data['total_count']\n",
    "        total_weights += data['total_count']\n",
    "    \n",
    "    if total_weights > 0:\n",
    "        return weighted_sum / total_weights\n",
    "    else:\n",
    "        return None"
   ]
  },
  {
   "cell_type": "code",
   "execution_count": 8,
   "metadata": {},
   "outputs": [
    {
     "name": "stdout",
     "output_type": "stream",
     "text": [
      "{'Great Britain': 0.23084911345796333, 'USA': 0.15048732741624504}\n"
     ]
    }
   ],
   "source": [
    "# Paths to the JSON files\n",
    "city_country_relation = {\n",
    "    'Great Britain': [\n",
    "        'Birmingham',\n",
    "        'London'\n",
    "    ],\n",
    "    'US': [\n",
    "        'LA',\n",
    "        'NYC'\n",
    "    ]\n",
    "}\n",
    "\n",
    "# Calculate the weighted mean compound sentiment per country\n",
    "country_means = {}\n",
    "for country, files in city_country_relation.items():\n",
    "    country_means[country] = calculate_weighted_mean(files)\n",
    "\n",
    "print(country_means)  "
   ]
  },
  {
   "cell_type": "code",
   "execution_count": 10,
   "metadata": {},
   "outputs": [
    {
     "name": "stdout",
     "output_type": "stream",
     "text": [
      "Results saved to country_mean_count.json\n"
     ]
    }
   ],
   "source": [
    "save_results(country_means, filename=f'results/country_mean_count.json')"
   ]
  },
  {
   "cell_type": "code",
   "execution_count": 3,
   "metadata": {},
   "outputs": [
    {
     "name": "stdout",
     "output_type": "stream",
     "text": [
      "The overall mean of the 'Compound' column is: 0.17639005765040047\n"
     ]
    }
   ],
   "source": [
    "db_files = get_db_files(root)\n",
    "\n",
    "# Aggregate the stats\n",
    "total_compound = 0\n",
    "total_count = 0\n",
    "for db_file in db_files:\n",
    "    stats = get_compound_stats(db_file)\n",
    "    total_compound += stats['total_compound']\n",
    "    total_count += stats['count']\n",
    "\n",
    "# Calculate the overall weighted mean\n",
    "if total_count > 0:\n",
    "    overall_mean = total_compound / total_count\n",
    "    print(f\"The overall mean of the 'Compound' column is: {overall_mean}\")\n",
    "else:\n",
    "    print(\"No data to calculate the mean.\")"
   ]
  },
  {
   "cell_type": "code",
   "execution_count": null,
   "metadata": {},
   "outputs": [],
   "source": [
    "results = {\n",
    "    \"overall_mean\": overall_mean,\n",
    "    \"total_count\": total_count\n",
    "}\n",
    "save_results(results, filename='results/mean_count.json')"
   ]
  },
  {
   "cell_type": "code",
   "execution_count": 11,
   "metadata": {},
   "outputs": [],
   "source": [
    "def load_results(filename):\n",
    "    # Read the JSON file and convert the contents back to a dictionary\n",
    "    with open(filename, 'r') as f:\n",
    "        results = json.load(f)\n",
    "        \n",
    "    return results\n",
    "\n",
    "# Example usage:\n",
    "# results = load_results()\n",
    "# overall_mean = results['overall_mean']\n",
    "# total_count = results['total_count']\n"
   ]
  }
 ],
 "metadata": {
  "kernelspec": {
   "display_name": "urban-analytics",
   "language": "python",
   "name": "python3"
  },
  "language_info": {
   "codemirror_mode": {
    "name": "ipython",
    "version": 3
   },
   "file_extension": ".py",
   "mimetype": "text/x-python",
   "name": "python",
   "nbconvert_exporter": "python",
   "pygments_lexer": "ipython3",
   "version": "3.10.8"
  }
 },
 "nbformat": 4,
 "nbformat_minor": 2
}
