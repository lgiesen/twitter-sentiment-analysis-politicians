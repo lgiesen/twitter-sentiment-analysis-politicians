{
 "cells": [
  {
   "cell_type": "code",
   "execution_count": 28,
   "metadata": {},
   "outputs": [],
   "source": [
    "# TODO: filter by date?; check data quality (if really from city)\n",
    "# TODO: filter out retweets and potential spam\n",
    "# in the London data set until April 2019 are tweets from Rotterdam and Amsterdam, so you can use country_code = 'GB' to filter the tweets.\n",
    "# TODO: check data quality (same column names and tables)\n",
    "# TODO: Birmingham does not have data before August 2018; the others do\n",
    "# TODO: not only filter by name of president, but also by keywords; take out the %, because it might include irrelevant results"
   ]
  },
  {
   "cell_type": "code",
   "execution_count": 29,
   "metadata": {},
   "outputs": [],
   "source": [
    "import pandas as pd\n",
    "import os\n",
    "import time\n",
    "import sqlite3\n",
    "from sqlite3 import Error\n",
    "root = '/Volumes/Festplatte/data-UA/'\n",
    "# month_path = 'NYC/2018/month_2018_08.db'\n",
    "president = 'trump'"
   ]
  },
  {
   "cell_type": "code",
   "execution_count": 30,
   "metadata": {},
   "outputs": [],
   "source": [
    "cities = ['Birmingham', 'LA', 'London', 'NYC']\n",
    "years = [str(year) for year in range(2018, 2023)]\n",
    "# ['2018', '2019', '2020', '2021', '2022']"
   ]
  },
  {
   "cell_type": "code",
   "execution_count": 31,
   "metadata": {},
   "outputs": [],
   "source": [
    "def get_files(dir):\n",
    "    \"\"\" get all files from a directory \n",
    "    that do not start with a '.'\n",
    "    :param dir: String\n",
    "    :return: List of Strings\n",
    "    \"\"\"\n",
    "    return [s for s in os.listdir(dir) if not s.startswith('.')]"
   ]
  },
  {
   "cell_type": "code",
   "execution_count": 32,
   "metadata": {},
   "outputs": [],
   "source": [
    "def create_connection(db_file):\n",
    "    \"\"\" create a database connection to the SQLite database\n",
    "        specified by the db_file\n",
    "    :param db_file: database file\n",
    "    :return: Connection object or None\n",
    "    \"\"\"\n",
    "    conn = None\n",
    "    try:\n",
    "        conn = sqlite3.connect(db_file)\n",
    "    except Error as e:\n",
    "        print(e)\n",
    "\n",
    "    return conn"
   ]
  },
  {
   "cell_type": "code",
   "execution_count": 33,
   "metadata": {},
   "outputs": [],
   "source": [
    "def db_select(conn, table, limit, select = '*', where = 'True'):\n",
    "    \"\"\"\n",
    "    Query all rows in the tasks table\n",
    "    :param conn: the Connection object\n",
    "    :return:\n",
    "    \"\"\"\n",
    "    cur = conn.cursor()\n",
    "    cur.execute(f'SELECT {select} FROM {table} WHERE {where} LIMIT {limit}')\n",
    "\n",
    "    rows = cur.fetchall()\n",
    "\n",
    "    for row in rows:\n",
    "        print(row)"
   ]
  },
  {
   "cell_type": "code",
   "execution_count": 100,
   "metadata": {},
   "outputs": [],
   "source": [
    "def create_dataset(conn, month_path, leader_hashtags):\n",
    "    \"\"\" create a dataset based on a database connection to the SQLite database\n",
    "    :param conn: database connection\n",
    "    :param month_path: String\n",
    "    :return: DataFrame\n",
    "    \"\"\"\n",
    "    # join sentiment and tweet table\n",
    "    # only select english tweets\n",
    "    data_en_keywords = pd.read_sql_query(\n",
    "        f\"\"\"\n",
    "        SELECT * \n",
    "        FROM tweets \n",
    "        INNER JOIN sentiment \n",
    "        USING (item_number) \n",
    "        WHERE (\n",
    "            lang == 'en'\n",
    "            AND\n",
    "            text LIKE '%{president}%'\n",
    "        );\n",
    "        \"\"\", \n",
    "        conn)\n",
    "    # alternatively: # cur.execute('SQL STATEMENT')\n",
    "    # now the compounded sentiment value should be a column as well in the cursor\n",
    "    assert 'Compound' in data_en_keywords.columns\n",
    "    \n",
    "    hashtags = pd.read_sql_query(f'SELECT DISTINCT item_number FROM hashtags WHERE text IN {leader_hashtags}', conn)\n",
    "    # posts that are not present in the current data_en_keywords that has a relevant hashtag is now added to the data\n",
    "    newly_relevant_hashtags = list(set(hashtags['item_number']) - set(data_en_keywords['item_number']))\n",
    "    print(f'{len(newly_relevant_hashtags)} posts are relevant because of hashtags, which were not present in the dataset before.')\n",
    "\n",
    "    tweets_by_hashtags = pd.read_sql_query(f\"\"\"\n",
    "                                        SELECT * \n",
    "                                        FROM tweets INNER JOIN sentiment \n",
    "                                        USING (item_number) \n",
    "                                        WHERE (\n",
    "                                            lang == 'en' \n",
    "                                            AND \n",
    "                                            item_number IN {str(tuple(newly_relevant_hashtags)).replace(',)',')')}\n",
    "                                        )\"\"\", conn)\n",
    "    \n",
    "    print(f'There are {tweets_by_hashtags.shape[0]} tweets which are in english and are relevant by using the hashtag')\n",
    "    # concat the tweets from before with the relevant hashtag-tweets\n",
    "    data_en_keywords_hashtags = pd.concat([data_en_keywords, tweets_by_hashtags], axis=0)\n",
    "    return data_en_keywords_hashtags"
   ]
  },
  {
   "cell_type": "code",
   "execution_count": 35,
   "metadata": {},
   "outputs": [],
   "source": [
    "boris_johnson_hashtags = ('BorisJohnson', 'UKPrimeMinister', 'ToryLeader', 'Boris')\n",
    "donald_trump_hashtags = ('DonaldTrump', 'Trump2024', 'MakeAmericaGreatAgain', 'Trump')"
   ]
  },
  {
   "cell_type": "code",
   "execution_count": 36,
   "metadata": {},
   "outputs": [],
   "source": [
    "data_path = root + 'data/'\n",
    "# make directory for relevant data\n",
    "if not os.path.exists(data_path):\n",
    "    os.mkdir(data_path)"
   ]
  },
  {
   "cell_type": "code",
   "execution_count": 101,
   "metadata": {},
   "outputs": [
    {
     "name": "stdout",
     "output_type": "stream",
     "text": [
      "Birmingham - 2018 - 08\n",
      "7 posts are relevant because of hashtags, which were not present in the dataset before.\n",
      "There are 0 tweets which are in english and are relevant by using the hashtag\n",
      "The shape of the preprocessed data is: (627, 17)\n",
      "Estimated time remaining: 18.0 minutes, 18.52 seconds\n",
      "\n",
      "\n",
      "Birmingham - 2018 - 09\n",
      "2 posts are relevant because of hashtags, which were not present in the dataset before.\n",
      "There are 0 tweets which are in english and are relevant by using the hashtag\n",
      "The shape of the preprocessed data is: (618, 17)\n",
      "Estimated time remaining: 17.0 minutes, 32.32 seconds\n",
      "\n",
      "\n",
      "Birmingham - 2018 - 10\n"
     ]
    }
   ],
   "source": [
    "%%time\n",
    "# check how long the loop will take\n",
    "total_iterations = len(cities) * len(years) * 12  # assuming 12 months per year\n",
    "completed_iterations = 0\n",
    "start_time = time.time()\n",
    "\n",
    "for city in cities:\n",
    "    for year in years:\n",
    "        for month in get_files(f'{root}{city}/{year}/'):\n",
    "            iteration_start_time = time.time()\n",
    "            month_only = month[-5:-3]\n",
    "            print(f'{city} - {year} - {month_only}')\n",
    "            # check if file exists\n",
    "            month_path = f'{root}{city}/{year}/{month}'\n",
    "            assert os.path.exists(month_path)\n",
    "            # create connection\n",
    "            conn = create_connection(month_path)\n",
    "            month_dataset = create_dataset(conn, month_path, leader_hashtags=donald_trump_hashtags)\n",
    "            print(f'The shape of the preprocessed data is: {month_dataset.shape}')\n",
    "            # save dataset\n",
    "            month_dataset_path = f'{data_path}{city}-{year}-{month_only}.pkl'\n",
    "            month_dataset.to_pickle(month_dataset_path)\n",
    "            # close the connection\n",
    "            conn.close()\n",
    "\n",
    "\n",
    "            completed_iterations += 1\n",
    "            average_time_per_iteration = (time.time() - start_time) / completed_iterations\n",
    "            estimated_total_time = average_time_per_iteration * total_iterations\n",
    "            estimated_time_remaining = estimated_total_time - (time.time() - start_time)\n",
    "            print(f'Estimated time remaining: {estimated_time_remaining // 60} minutes, {estimated_time_remaining % 60:.2f} seconds')\n",
    "            print('\\n')"
   ]
  },
  {
   "cell_type": "code",
   "execution_count": null,
   "metadata": {},
   "outputs": [],
   "source": [
    "# load data\n",
    "# data_en_keywords = pd.read_pickle(filepath)"
   ]
  },
  {
   "cell_type": "code",
   "execution_count": 21,
   "metadata": {},
   "outputs": [],
   "source": [
    "# TODO: filter out retweets and potential spam | tokenization, lemmatization and stopword removal"
   ]
  },
  {
   "cell_type": "code",
   "execution_count": 22,
   "metadata": {},
   "outputs": [],
   "source": [
    "# TODO: vectorization (bag of words or bag-of-ngrams or word2vec)"
   ]
  }
 ],
 "metadata": {
  "kernelspec": {
   "display_name": "urban-analytics",
   "language": "python",
   "name": "python3"
  },
  "language_info": {
   "codemirror_mode": {
    "name": "ipython",
    "version": 3
   },
   "file_extension": ".py",
   "mimetype": "text/x-python",
   "name": "python",
   "nbconvert_exporter": "python",
   "pygments_lexer": "ipython3",
   "version": "3.10.8"
  }
 },
 "nbformat": 4,
 "nbformat_minor": 2
}
