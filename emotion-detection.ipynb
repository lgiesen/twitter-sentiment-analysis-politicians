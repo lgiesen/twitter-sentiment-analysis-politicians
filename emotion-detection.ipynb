{
 "cells": [
  {
   "cell_type": "markdown",
   "metadata": {},
   "source": [
    "### Imports and General Data"
   ]
  },
  {
   "cell_type": "code",
   "execution_count": 2,
   "metadata": {},
   "outputs": [],
   "source": [
    "import pandas as pd\n",
    "import os\n",
    "import matplotlib as mpl\n",
    "import matplotlib.pyplot as plt\n",
    "import seaborn as sns\n",
    "import numpy as np\n",
    "from main import get_files, get_data, export_data, create_connection\n",
    "(root, data_path, presidents, cities, countries, years, colors) = get_data()"
   ]
  },
  {
   "cell_type": "code",
   "execution_count": 3,
   "metadata": {},
   "outputs": [],
   "source": [
    "trump = pd.read_pickle(f'{data_path}trump.pkl')\n",
    "johnson = pd.read_pickle(f'{data_path}johnson.pkl')"
   ]
  },
  {
   "cell_type": "code",
   "execution_count": 4,
   "metadata": {},
   "outputs": [
    {
     "data": {
      "text/plain": [
       "((1635031, 143), (361515, 143))"
      ]
     },
     "execution_count": 4,
     "metadata": {},
     "output_type": "execute_result"
    }
   ],
   "source": [
    "trump.shape, johnson.shape"
   ]
  },
  {
   "cell_type": "code",
   "execution_count": 5,
   "metadata": {},
   "outputs": [
    {
     "data": {
      "text/plain": [
       "(Index(['item_number', 'id', 'created_at', 'created_timestamp', 'text',\n",
       "        'quote_count', 'reply_count', 'retweet_count', 'favorite_count', 'lang',\n",
       "        ...\n",
       "        'Apostro', 'OtherP', 'Emoji', 'place_type', 'full_name', 'country_code',\n",
       "        'top_left_lat', 'top_left_lon', 'bottom_right_lat', 'bottom_right_lon'],\n",
       "       dtype='object', length=143),\n",
       " Index(['item_number', 'id', 'created_at', 'created_timestamp', 'text',\n",
       "        'quote_count', 'reply_count', 'retweet_count', 'favorite_count', 'lang',\n",
       "        ...\n",
       "        'Apostro', 'OtherP', 'Emoji', 'place_type', 'full_name', 'country_code',\n",
       "        'top_left_lat', 'top_left_lon', 'bottom_right_lat', 'bottom_right_lon'],\n",
       "       dtype='object', length=143))"
      ]
     },
     "execution_count": 5,
     "metadata": {},
     "output_type": "execute_result"
    }
   ],
   "source": [
    "trump.columns, johnson.columns"
   ]
  },
  {
   "cell_type": "code",
   "execution_count": null,
   "metadata": {},
   "outputs": [],
   "source": []
  }
 ],
 "metadata": {
  "kernelspec": {
   "display_name": "urban-analytics",
   "language": "python",
   "name": "python3"
  },
  "language_info": {
   "codemirror_mode": {
    "name": "ipython",
    "version": 3
   },
   "file_extension": ".py",
   "mimetype": "text/x-python",
   "name": "python",
   "nbconvert_exporter": "python",
   "pygments_lexer": "ipython3",
   "version": "3.10.8"
  }
 },
 "nbformat": 4,
 "nbformat_minor": 2
}
